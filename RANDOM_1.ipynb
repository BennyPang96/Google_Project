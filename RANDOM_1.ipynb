{
 "cells": [
  {
   "cell_type": "code",
   "execution_count": 20,
   "id": "1dcfd2e7",
   "metadata": {},
   "outputs": [],
   "source": [
    "import random\n",
    "import numpy as np\n",
    "import pandas as pd\n",
    "import timeit"
   ]
  },
  {
   "cell_type": "code",
   "execution_count": 2,
   "id": "3a6e3f06",
   "metadata": {},
   "outputs": [
    {
     "data": {
      "text/plain": [
       "-42"
      ]
     },
     "execution_count": 2,
     "metadata": {},
     "output_type": "execute_result"
    }
   ],
   "source": [
    "random.randint(-90,90)"
   ]
  },
  {
   "cell_type": "code",
   "execution_count": 3,
   "id": "fe2f6a1f",
   "metadata": {},
   "outputs": [
    {
     "data": {
      "text/plain": [
       "0.11794507105776753"
      ]
     },
     "execution_count": 3,
     "metadata": {},
     "output_type": "execute_result"
    }
   ],
   "source": [
    "random.random()"
   ]
  },
  {
   "cell_type": "code",
   "execution_count": 5,
   "id": "24bc6cd2",
   "metadata": {},
   "outputs": [
    {
     "data": {
      "text/plain": [
       "75.55801246068941"
      ]
     },
     "execution_count": 5,
     "metadata": {},
     "output_type": "execute_result"
    }
   ],
   "source": [
    "random_number = random.randint(-90,90) + random.random()\n",
    "random_number"
   ]
  },
  {
   "cell_type": "code",
   "execution_count": 6,
   "id": "835d6561",
   "metadata": {},
   "outputs": [],
   "source": [
    "a = 1\n",
    "latitude = []\n",
    "while a < 11:\n",
    "    random_number = random.randint(-90,90) + random.random()\n",
    "    latitude.append(random_number)\n",
    "    a+=1"
   ]
  },
  {
   "cell_type": "code",
   "execution_count": 7,
   "id": "0e9d3c92",
   "metadata": {},
   "outputs": [
    {
     "data": {
      "text/plain": [
       "[-25.43031060324559,\n",
       " -48.55249312849874,\n",
       " 89.5315320513736,\n",
       " 33.96581892036828,\n",
       " -22.15297883933921,\n",
       " -61.98387988804868,\n",
       " -56.10538048898264,\n",
       " -52.7019776706512,\n",
       " 39.3491739849786,\n",
       " 14.647812730449147]"
      ]
     },
     "execution_count": 7,
     "metadata": {},
     "output_type": "execute_result"
    }
   ],
   "source": [
    "latitude"
   ]
  },
  {
   "cell_type": "code",
   "execution_count": 8,
   "id": "fc2e3e73",
   "metadata": {},
   "outputs": [],
   "source": [
    "long = 1\n",
    "longitude = []\n",
    "while long < 11:\n",
    "    random_number = random.randint(-180,180) + random.random()\n",
    "    longitude.append(random_number)\n",
    "    long+=1"
   ]
  },
  {
   "cell_type": "code",
   "execution_count": 9,
   "id": "b4cf63e1",
   "metadata": {},
   "outputs": [
    {
     "data": {
      "text/plain": [
       "[37.34236732617876,\n",
       " -96.70283401456491,\n",
       " 79.15209956083561,\n",
       " 26.433147274234763,\n",
       " -52.342894227521796,\n",
       " -172.86448406945084,\n",
       " 66.40304030979452,\n",
       " 56.60788320680486,\n",
       " -21.048551961415313,\n",
       " -52.16262179356451]"
      ]
     },
     "execution_count": 9,
     "metadata": {},
     "output_type": "execute_result"
    }
   ],
   "source": [
    "longitude"
   ]
  },
  {
   "cell_type": "code",
   "execution_count": 18,
   "id": "b5d03f99",
   "metadata": {},
   "outputs": [
    {
     "data": {
      "text/plain": [
       "540"
      ]
     },
     "execution_count": 18,
     "metadata": {},
     "output_type": "execute_result"
    }
   ],
   "source": [
    "random.randrange(2,1000,2)"
   ]
  },
  {
   "cell_type": "code",
   "execution_count": 19,
   "id": "8a12896f",
   "metadata": {},
   "outputs": [
    {
     "data": {
      "text/plain": [
       "-33.8950816817191"
      ]
     },
     "execution_count": 19,
     "metadata": {},
     "output_type": "execute_result"
    }
   ],
   "source": [
    "random.uniform(-90,90)"
   ]
  },
  {
   "cell_type": "code",
   "execution_count": 21,
   "id": "d5eceda7",
   "metadata": {},
   "outputs": [
    {
     "data": {
      "text/plain": [
       "array([-84.28859154, -84.00489114,  68.48328728,  17.32182454,\n",
       "       -14.29418239,  64.29859322, -43.05034196, -76.89267985,\n",
       "       -71.44519109, -59.93375951,  48.838851  ,  71.90446647,\n",
       "       -63.63223954,  48.15337954,   3.60771323, -47.03467593,\n",
       "        84.31039818, -27.90209625,  -7.36537456,  34.22494298,\n",
       "        13.60500862,  -7.0315453 , -69.86633412, -53.32572806,\n",
       "       -57.09340552,  65.7738853 ,  71.31146974,  79.16782013,\n",
       "        55.35855922,  58.3955055 ,  18.91043874, -57.5995982 ,\n",
       "        12.59838285,  23.88723939,   1.04509373,  -3.87304163,\n",
       "        -2.57852764,  23.26373377, -64.92325326,  -1.1209624 ,\n",
       "        72.88301194, -64.44134903,  48.99142801,  40.56432645,\n",
       "       -62.04724295, -41.82606087,  -4.70559297, -59.90779507,\n",
       "       -42.54043806,  14.16481693])"
      ]
     },
     "execution_count": 21,
     "metadata": {},
     "output_type": "execute_result"
    }
   ],
   "source": [
    "np.random.uniform(-90.0,90.0,size = 50)"
   ]
  },
  {
   "cell_type": "code",
   "execution_count": 22,
   "id": "7ea0523b",
   "metadata": {},
   "outputs": [],
   "source": [
    "def latitude(size):\n",
    "    a = 0\n",
    "    latitude = []\n",
    "    while a < (size):\n",
    "        random_number = random.randint(-90,90) + random.random()\n",
    "        latitude.append(random_number)\n",
    "        a+=1\n",
    "    return latitude"
   ]
  },
  {
   "cell_type": "code",
   "execution_count": 25,
   "id": "adb629e8",
   "metadata": {},
   "outputs": [
    {
     "name": "stdout",
     "output_type": "stream",
     "text": [
      "11.3 µs ± 165 ns per loop (mean ± std. dev. of 7 runs, 100,000 loops each)\n"
     ]
    }
   ],
   "source": [
    "%timeit latitude(2000)"
   ]
  },
  {
   "cell_type": "code",
   "execution_count": 26,
   "id": "a151d660",
   "metadata": {},
   "outputs": [
    {
     "name": "stdout",
     "output_type": "stream",
     "text": [
      "15.8 µs ± 246 ns per loop (mean ± std. dev. of 7 runs, 100,000 loops each)\n"
     ]
    }
   ],
   "source": [
    "%timeit np.random.uniform(-90.0,90.0,size = 2000)"
   ]
  },
  {
   "cell_type": "code",
   "execution_count": null,
   "id": "55f33942",
   "metadata": {},
   "outputs": [],
   "source": []
  }
 ],
 "metadata": {
  "kernelspec": {
   "display_name": "Python 3 (ipykernel)",
   "language": "python",
   "name": "python3"
  },
  "language_info": {
   "codemirror_mode": {
    "name": "ipython",
    "version": 3
   },
   "file_extension": ".py",
   "mimetype": "text/x-python",
   "name": "python",
   "nbconvert_exporter": "python",
   "pygments_lexer": "ipython3",
   "version": "3.10.6"
  }
 },
 "nbformat": 4,
 "nbformat_minor": 5
}
